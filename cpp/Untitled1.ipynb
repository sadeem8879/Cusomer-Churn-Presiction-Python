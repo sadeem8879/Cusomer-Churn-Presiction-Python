{
 "cells": [
  {
   "cell_type": "code",
   "execution_count": null,
   "id": "82dda22a-aad8-43ca-aca2-40f4b110836a",
   "metadata": {},
   "outputs": [],
   "source": []
  }
 ],
 "metadata": {
  "kernelspec": {
   "display_name": "",
   "name": ""
  },
  "language_info": {
   "name": ""
  }
 },
 "nbformat": 4,
 "nbformat_minor": 5
}
