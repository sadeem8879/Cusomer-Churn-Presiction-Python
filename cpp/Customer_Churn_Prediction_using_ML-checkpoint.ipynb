{
 "cells": [
  {
   "cell_type": "code",
   "execution_count": 12,
   "metadata": {
    "scrolled": true
   },
   "outputs": [
    {
     "name": "stdout",
     "output_type": "stream",
     "text": [
      "\n",
      "Churn Value Counts:\n",
      "churn\n",
      "0    3\n",
      "1    2\n",
      "Name: count, dtype: int64\n"
     ]
    },
    {
     "name": "stderr",
     "output_type": "stream",
     "text": [
      "c:\\Users\\sadee\\AppData\\Local\\Programs\\Python\\Python313\\Lib\\site-packages\\joblib\\externals\\loky\\backend\\context.py:136: UserWarning: Could not find the number of physical cores for the following reason:\n",
      "found 0 physical cores < 1\n",
      "Returning the number of logical cores instead. You can silence this warning by setting LOKY_MAX_CPU_COUNT to the number of cores you want to use.\n",
      "  warnings.warn(\n",
      "  File \"c:\\Users\\sadee\\AppData\\Local\\Programs\\Python\\Python313\\Lib\\site-packages\\joblib\\externals\\loky\\backend\\context.py\", line 282, in _count_physical_cores\n",
      "    raise ValueError(f\"found {cpu_count_physical} physical cores < 1\")\n"
     ]
    },
    {
     "name": "stdout",
     "output_type": "stream",
     "text": [
      "✅ SMOTE applied!\n",
      "\n",
      "✅ Model Accuracy: 1.00\n",
      "\n",
      "Classification Report:\n",
      "               precision    recall  f1-score   support\n",
      "\n",
      "           0       1.00      1.00      1.00         1\n",
      "           1       1.00      1.00      1.00         1\n",
      "\n",
      "    accuracy                           1.00         2\n",
      "   macro avg       1.00      1.00      1.00         2\n",
      "weighted avg       1.00      1.00      1.00         2\n",
      "\n"
     ]
    }
   ],
   "source": [
    "import os\n",
    "import pandas as pd\n",
    "import numpy as np\n",
    "import psycopg2\n",
    "from dotenv import load_dotenv\n",
    "from sqlalchemy import create_engine\n",
    "from sklearn.model_selection import train_test_split\n",
    "from sklearn.preprocessing import StandardScaler\n",
    "from sklearn.ensemble import RandomForestClassifier\n",
    "from sklearn.metrics import classification_report, accuracy_score\n",
    "from imblearn.over_sampling import SMOTE\n",
    "\n",
    "# ✅ Load environment variables\n",
    "load_dotenv()\n",
    "\n",
    "# ✅ Database Connection\n",
    "DATABASE_URL = os.getenv(\"DATABASE_URL\")  # Ensure this is set in .env\n",
    "engine = create_engine(DATABASE_URL)\n",
    "conn = engine.connect()\n",
    "\n",
    "# ✅ Fetch Data from PostgreSQL\n",
    "query = \"\"\"\n",
    "    SELECT \n",
    "        user_id, user_name, user_email, last_order_date, total_orders, total_spent, \n",
    "        avg_order_frequency, last_login_date, total_logins, total_time_spent, \n",
    "        avg_time_per_session, abandoned_cart_count, product_id, product_name, \n",
    "        product_price\n",
    "    FROM user_full_dataset;\n",
    "\"\"\"\n",
    "df = pd.read_sql(query, conn)\n",
    "conn.close()\n",
    "\n",
    "# ✅ Convert Dates & Handle Missing Values\n",
    "df[\"last_order_date\"] = pd.to_datetime(df[\"last_order_date\"])\n",
    "df[\"last_login_date\"] = pd.to_datetime(df[\"last_login_date\"])\n",
    "today = pd.Timestamp.today()\n",
    "\n",
    "df[\"recency_days\"] = (today - df[\"last_order_date\"]).dt.days.fillna(999).astype(int)\n",
    "df[\"days_since_last_login\"] = (today - df[\"last_login_date\"]).dt.days.fillna(999).astype(int)\n",
    "\n",
    "# ✅ Define Churn (Customers inactive for >X days)\n",
    "churn_threshold = 90  # Customers inactive for 90+ days are considered churned\n",
    "df[\"churn\"] = (df[\"recency_days\"] > churn_threshold).astype(int)\n",
    "\n",
    "# ✅ Compute Frequency & Monetary Value\n",
    "df[\"frequency\"] = df.groupby(\"user_id\")[\"total_orders\"].transform(\"sum\")\n",
    "df[\"monetary_value\"] = df.groupby(\"user_id\")[\"total_spent\"].transform(\"sum\")\n",
    "\n",
    "# ✅ Check Churn Distribution\n",
    "print(\"\\nChurn Value Counts:\")\n",
    "print(df[\"churn\"].value_counts())\n",
    "\n",
    "# ✅ Features & Target\n",
    "df = df.drop(columns=[\"last_order_date\", \"last_login_date\", \"user_name\", \"user_email\", \"product_name\", \"product_id\", \"product_price\"])\n",
    "X = df.drop(columns=[\"churn\", \"user_id\"])\n",
    "y = df[\"churn\"]\n",
    "\n",
    "# ✅ Ensure all features are numerical\n",
    "X = X.apply(pd.to_numeric, errors='coerce').fillna(0)\n",
    "\n",
    "# ✅ Handle Data Imbalance (Apply SMOTE If Needed)\n",
    "if len(y.unique()) > 1 and y.value_counts().min() >= 2:  # Ensure there are enough samples\n",
    "    smote = SMOTE(random_state=42, k_neighbors=min(2, y.value_counts().min() - 1))  \n",
    "    X, y = smote.fit_resample(X, y)\n",
    "    print(\"✅ SMOTE applied!\")\n",
    "else:\n",
    "    print(\"⚠️ SMOTE skipped: Not enough samples for SMOTE.\")\n",
    "\n",
    "# ✅ Train-Test Split\n",
    "X_train, X_test, y_train, y_test = train_test_split(X, y, test_size=0.3, stratify=y, random_state=42)\n",
    "\n",
    "# ✅ Scale Features\n",
    "scaler = StandardScaler()\n",
    "X_train = scaler.fit_transform(X_train)\n",
    "X_test = scaler.transform(X_test)\n",
    "\n",
    "# ✅ Train Model\n",
    "model = RandomForestClassifier(random_state=42)\n",
    "model.fit(X_train, y_train)\n",
    "\n",
    "# ✅ Predictions\n",
    "y_pred = model.predict(X_test)\n",
    "\n",
    "# ✅ Evaluate Model\n",
    "accuracy = accuracy_score(y_test, y_pred)\n",
    "report = classification_report(y_test, y_pred)\n",
    "\n",
    "print(f\"\\n✅ Model Accuracy: {accuracy:.2f}\")\n",
    "print(\"\\nClassification Report:\\n\", report)\n"
   ]
  }
 ],
 "metadata": {
  "kernelspec": {
   "display_name": "Python (venv)",
   "language": "python",
   "name": "venv"
  },
  "language_info": {
   "codemirror_mode": {
    "name": "ipython",
    "version": 3
   },
   "file_extension": ".py",
   "mimetype": "text/x-python",
   "name": "python",
   "nbconvert_exporter": "python",
   "pygments_lexer": "ipython3",
   "version": "3.13.1"
  }
 },
 "nbformat": 4,
 "nbformat_minor": 4
}
