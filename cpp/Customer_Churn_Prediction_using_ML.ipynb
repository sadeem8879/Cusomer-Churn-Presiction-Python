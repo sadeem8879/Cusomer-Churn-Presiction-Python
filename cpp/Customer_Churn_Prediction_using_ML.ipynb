{
 "cells": [
  {
   "cell_type": "markdown",
   "metadata": {
    "id": "KSOfxNjlGfph"
   },
   "source": [
    "**1. Importing the dependencies**"
   ]
  },
  {
   "cell_type": "raw",
   "metadata": {
    "id": "e3s8Q6OFGqzH"
   },
   "source": [
    "import numpy as np\n",
    "import pandas as pd\n",
    "import matplotlib.pyplot as plt\n",
    "import seaborn as sns\n",
    "from sklearn.preprocessing import LabelEncoder\n",
    "from imblearn.over_sampling import SMOTE\n",
    "from sklearn.model_selection import train_test_split, cross_val_score\n",
    "from sklearn.tree import DecisionTreeClassifier\n",
    "from sklearn.ensemble import RandomForestClassifier\n",
    "from xgboost import XGBClassifier\n",
    "from sklearn.metrics import accuracy_score, confusion_matrix, classification_report\n",
    "import pickle"
   ]
  },
  {
   "cell_type": "markdown",
   "metadata": {
    "id": "dMg01etGHvua"
   },
   "source": [
    "**2. Data Loading and Understanding**"
   ]
  },
  {
   "cell_type": "code",
   "execution_count": null,
   "metadata": {
    "id": "pKQDAvYRHuN6"
   },
   "outputs": [],
   "source": [
    "# load teh csv data to a pandas dataframe\n",
    "df = pd.read_csv(\"/content/WA_Fn-UseC_-Telco-Customer-Churn.csv\")"
   ]
  },
  {
   "cell_type": "code",
   "execution_count": null,
   "metadata": {
    "colab": {
     "base_uri": "https://localhost:8080/"
    },
    "id": "38RRn-9JH-U5",
    "outputId": "d883a455-b3f3-480a-ae94-b1daae237899"
   },
   "outputs": [],
   "source": [
    "df.shape"
   ]
  },
  {
   "cell_type": "code",
   "execution_count": null,
   "metadata": {
    "colab": {
     "base_uri": "https://localhost:8080/",
     "height": 313
    },
    "id": "9XpNVJlcIB-n",
    "outputId": "cda716cd-0fd8-4019-8d1a-1ff634b5cfe1"
   },
   "outputs": [],
   "source": [
    "df.head()"
   ]
  },
  {
   "cell_type": "code",
   "execution_count": null,
   "metadata": {
    "id": "HdiLdzdbIIYu"
   },
   "outputs": [],
   "source": [
    "pd.set_option(\"display.max_columns\", None)"
   ]
  },
  {
   "cell_type": "code",
   "execution_count": null,
   "metadata": {
    "colab": {
     "base_uri": "https://localhost:8080/",
     "height": 166
    },
    "id": "QRldTkVLIRfg",
    "outputId": "46927a5b-0b9f-4ee9-ffcd-fc87904945e8"
   },
   "outputs": [],
   "source": [
    "df.head(2)"
   ]
  },
  {
   "cell_type": "code",
   "execution_count": null,
   "metadata": {
    "colab": {
     "base_uri": "https://localhost:8080/"
    },
    "id": "PAzEivWzIU8c",
    "outputId": "472e94a7-1416-46eb-cf0b-c15e471c1cf0"
   },
   "outputs": [],
   "source": [
    "df.info()"
   ]
  },
  {
   "cell_type": "code",
   "execution_count": null,
   "metadata": {
    "id": "sA_oK-1DJFEK"
   },
   "outputs": [],
   "source": [
    "# dropping customerID column as this is not required for modelling\n",
    "df = df.drop(columns=[\"customerID\"])"
   ]
  },
  {
   "cell_type": "code",
   "execution_count": null,
   "metadata": {
    "colab": {
     "base_uri": "https://localhost:8080/",
     "height": 149
    },
    "id": "JU5Q6F92KTRz",
    "outputId": "2c1c983a-9002-4753-eec7-a67cf8d49c3f"
   },
   "outputs": [],
   "source": [
    "df.head(2)"
   ]
  },
  {
   "cell_type": "code",
   "execution_count": null,
   "metadata": {
    "colab": {
     "base_uri": "https://localhost:8080/"
    },
    "id": "zxUPY9zTKtP5",
    "outputId": "db34521a-9f19-4597-9e04-f56b37ce809f"
   },
   "outputs": [],
   "source": [
    "df.columns"
   ]
  },
  {
   "cell_type": "code",
   "execution_count": null,
   "metadata": {
    "colab": {
     "base_uri": "https://localhost:8080/"
    },
    "id": "l34hMyJMKw3D",
    "outputId": "f9a52cdc-c3ba-403b-c958-35b18bc3e28c"
   },
   "outputs": [],
   "source": [
    "print(df[\"gender\"].unique())"
   ]
  },
  {
   "cell_type": "code",
   "execution_count": null,
   "metadata": {
    "colab": {
     "base_uri": "https://localhost:8080/"
    },
    "id": "lKiFNy2rLEUx",
    "outputId": "c420d9a6-0d4b-4660-986a-f9e28f7a877b"
   },
   "outputs": [],
   "source": [
    "print(df[\"SeniorCitizen\"].unique())"
   ]
  },
  {
   "cell_type": "code",
   "execution_count": null,
   "metadata": {
    "colab": {
     "base_uri": "https://localhost:8080/"
    },
    "id": "heeFR4JJKULo",
    "outputId": "53195360-e58a-4c92-b212-b030ba51cf2c"
   },
   "outputs": [],
   "source": [
    "# printing the unique values in all the columns\n",
    "\n",
    "numerical_features_list = [\"tenure\", \"MonthlyCharges\", \"TotalCharges\"]\n",
    "\n",
    "for col in df.columns:\n",
    "  if col not in numerical_features_list:\n",
    "    print(col, df[col].unique())\n",
    "    print(\"-\"*50)"
   ]
  },
  {
   "cell_type": "code",
   "execution_count": null,
   "metadata": {
    "colab": {
     "base_uri": "https://localhost:8080/"
    },
    "id": "l9lEd00ILJB4",
    "outputId": "5d0b506f-0680-40e6-b314-2b00c5036933"
   },
   "outputs": [],
   "source": [
    "print(df.isnull().sum())"
   ]
  },
  {
   "cell_type": "code",
   "execution_count": null,
   "metadata": {
    "id": "JIwRHLf7L_X8"
   },
   "outputs": [],
   "source": [
    "#df[\"TotalCharges\"] = df[\"TotalCharges\"].astype(float)"
   ]
  },
  {
   "cell_type": "code",
   "execution_count": null,
   "metadata": {
    "colab": {
     "base_uri": "https://localhost:8080/",
     "height": 570
    },
    "id": "gvHFhTBRMJJt",
    "outputId": "cbc0facb-7132-4bfe-f166-4e6e8fc54c15"
   },
   "outputs": [],
   "source": [
    "df[df[\"TotalCharges\"]==\" \"]"
   ]
  },
  {
   "cell_type": "code",
   "execution_count": null,
   "metadata": {
    "colab": {
     "base_uri": "https://localhost:8080/"
    },
    "id": "T8_MOpGIMbSt",
    "outputId": "8d436770-a480-4b8a-edf3-554e6788540b"
   },
   "outputs": [],
   "source": [
    "len(df[df[\"TotalCharges\"]==\" \"])"
   ]
  },
  {
   "cell_type": "code",
   "execution_count": null,
   "metadata": {
    "id": "YjdpbUlaMejM"
   },
   "outputs": [],
   "source": [
    "df[\"TotalCharges\"] = df[\"TotalCharges\"].replace({\" \": \"0.0\"})"
   ]
  },
  {
   "cell_type": "code",
   "execution_count": null,
   "metadata": {
    "id": "b7xVSlgSNcb8"
   },
   "outputs": [],
   "source": [
    "df[\"TotalCharges\"] = df[\"TotalCharges\"].astype(float)"
   ]
  },
  {
   "cell_type": "code",
   "execution_count": null,
   "metadata": {
    "colab": {
     "base_uri": "https://localhost:8080/"
    },
    "id": "WyXy07fSNjSy",
    "outputId": "2f654261-ca86-4f29-91e9-8f5232b809ac"
   },
   "outputs": [],
   "source": [
    "df.info()"
   ]
  },
  {
   "cell_type": "code",
   "execution_count": null,
   "metadata": {
    "colab": {
     "base_uri": "https://localhost:8080/"
    },
    "id": "1_VJd8WvNkei",
    "outputId": "6411f6ae-b927-405a-c0cc-1da5a707b846"
   },
   "outputs": [],
   "source": [
    "# checking the class distribution of target column\n",
    "print(df[\"Churn\"].value_counts())"
   ]
  },
  {
   "cell_type": "markdown",
   "metadata": {
    "id": "NlXtkHNYOFJa"
   },
   "source": [
    "**Insights:**\n",
    "1. Customer ID removed as it is not required for modelling\n",
    "2. No mmissing values in the dataset\n",
    "3. Missing values in the TotalCharges column were replaced with 0\n",
    "4. Class imbalance identified in the target"
   ]
  },
  {
   "cell_type": "markdown",
   "metadata": {
    "id": "2bmA7i3OOcld"
   },
   "source": [
    "**3. Exploratory Data Analysis (EDA)**"
   ]
  },
  {
   "cell_type": "code",
   "execution_count": null,
   "metadata": {
    "colab": {
     "base_uri": "https://localhost:8080/"
    },
    "id": "slxl5eMnN1z-",
    "outputId": "58be1bfa-c4aa-406f-e4e7-b6b2c9329fa8"
   },
   "outputs": [],
   "source": [
    "df.shape"
   ]
  },
  {
   "cell_type": "code",
   "execution_count": null,
   "metadata": {
    "colab": {
     "base_uri": "https://localhost:8080/"
    },
    "id": "Xp3BY9TLOj3r",
    "outputId": "c2662004-a0b2-40cb-da55-512846470bc6"
   },
   "outputs": [],
   "source": [
    "df.columns"
   ]
  },
  {
   "cell_type": "code",
   "execution_count": null,
   "metadata": {
    "colab": {
     "base_uri": "https://localhost:8080/",
     "height": 149
    },
    "id": "EM_hV4-EOlBo",
    "outputId": "2aad885a-8277-4914-c8c9-14b299b2f380"
   },
   "outputs": [],
   "source": [
    "df.head(2)"
   ]
  },
  {
   "cell_type": "code",
   "execution_count": null,
   "metadata": {
    "colab": {
     "base_uri": "https://localhost:8080/",
     "height": 300
    },
    "id": "Cs-Rev3AOntR",
    "outputId": "8a8a2a37-f603-4964-fb6c-7eb52329de13"
   },
   "outputs": [],
   "source": [
    "df.describe()"
   ]
  },
  {
   "cell_type": "markdown",
   "metadata": {
    "id": "vjPTz_FVPCdy"
   },
   "source": [
    "**Numerical Features - Analysis**"
   ]
  },
  {
   "cell_type": "markdown",
   "metadata": {
    "id": "el6Sna0vPH1y"
   },
   "source": [
    "Understand the distribution of teh numerical features"
   ]
  },
  {
   "cell_type": "code",
   "execution_count": null,
   "metadata": {
    "id": "GiVVdSpxOrXp"
   },
   "outputs": [],
   "source": [
    "def plot_histogram(df, column_name):\n",
    "\n",
    "  plt.figure(figsize=(5, 3))\n",
    "  sns.histplot(df[column_name], kde=True)\n",
    "  plt.title(f\"Distribution of {column_name}\")\n",
    "\n",
    "  # calculate the mean and median values for the columns\n",
    "  col_mean = df[column_name].mean()\n",
    "  col_median = df[column_name].median()\n",
    "\n",
    "  # add vertical lines for mean and median\n",
    "  plt.axvline(col_mean, color=\"red\", linestyle=\"--\", label=\"Mean\")\n",
    "  plt.axvline(col_median, color=\"green\", linestyle=\"-\", label=\"Median\")\n",
    "\n",
    "  plt.legend()\n",
    "\n",
    "  plt.show()"
   ]
  },
  {
   "cell_type": "code",
   "execution_count": null,
   "metadata": {
    "colab": {
     "base_uri": "https://localhost:8080/",
     "height": 333
    },
    "id": "C-ii594gRLiv",
    "outputId": "9afce1ea-f2e1-43e7-9429-0a2570298b0c"
   },
   "outputs": [],
   "source": [
    "plot_histogram(df, \"tenure\")"
   ]
  },
  {
   "cell_type": "code",
   "execution_count": null,
   "metadata": {
    "colab": {
     "base_uri": "https://localhost:8080/",
     "height": 333
    },
    "id": "N7aTEuvKRPQ2",
    "outputId": "cfdc985f-0904-4a1b-bb03-9825407e45eb"
   },
   "outputs": [],
   "source": [
    "plot_histogram(df, \"MonthlyCharges\")"
   ]
  },
  {
   "cell_type": "code",
   "execution_count": null,
   "metadata": {
    "colab": {
     "base_uri": "https://localhost:8080/",
     "height": 333
    },
    "id": "VpgyhemIRXl1",
    "outputId": "1e6b03e9-a759-468a-8b14-0c8e891cf565"
   },
   "outputs": [],
   "source": [
    "plot_histogram(df, \"TotalCharges\")"
   ]
  },
  {
   "cell_type": "markdown",
   "metadata": {
    "id": "dB-8XMyyR6oq"
   },
   "source": [
    "**Box plot for numerical features**"
   ]
  },
  {
   "cell_type": "code",
   "execution_count": null,
   "metadata": {
    "id": "l_UN9to_ReoI"
   },
   "outputs": [],
   "source": [
    "def plot_boxplot(df, column_name):\n",
    "\n",
    "  plt.figure(figsize=(5, 3))\n",
    "  sns.boxplot(y=df[column_name])\n",
    "  plt.title(f\"Box Plot of {column_name}\")\n",
    "  plt.ylabel(column_name)\n",
    "  plt.show"
   ]
  },
  {
   "cell_type": "code",
   "execution_count": null,
   "metadata": {
    "colab": {
     "base_uri": "https://localhost:8080/",
     "height": 295
    },
    "id": "BQm48zvRSMGj",
    "outputId": "acdee858-1a46-480f-eaab-4d799fadc89a"
   },
   "outputs": [],
   "source": [
    "plot_boxplot(df, \"tenure\")"
   ]
  },
  {
   "cell_type": "code",
   "execution_count": null,
   "metadata": {
    "colab": {
     "base_uri": "https://localhost:8080/",
     "height": 295
    },
    "id": "LMG8Jj6nSObQ",
    "outputId": "a655fc0c-f3c6-496b-f086-94c581799e4c"
   },
   "outputs": [],
   "source": [
    "plot_boxplot(df, \"MonthlyCharges\")"
   ]
  },
  {
   "cell_type": "code",
   "execution_count": null,
   "metadata": {
    "colab": {
     "base_uri": "https://localhost:8080/",
     "height": 295
    },
    "id": "DYijKgb-SOKA",
    "outputId": "9bb4e250-82c2-4b61-cee3-31e3b2295d6f"
   },
   "outputs": [],
   "source": [
    "plot_boxplot(df, \"TotalCharges\")"
   ]
  },
  {
   "cell_type": "markdown",
   "metadata": {
    "id": "w26inWhjStai"
   },
   "source": [
    "**Correlation Heatmap for numerical columns**"
   ]
  },
  {
   "cell_type": "code",
   "execution_count": null,
   "metadata": {
    "colab": {
     "base_uri": "https://localhost:8080/",
     "height": 391
    },
    "id": "ZB_oc-xySmu8",
    "outputId": "6eca9cb3-1c4f-46d8-d431-db2e3f460552"
   },
   "outputs": [],
   "source": [
    "# correlation matrix - heatmap\n",
    "plt.figure(figsize=(8, 4))\n",
    "sns.heatmap(df[[\"tenure\", \"MonthlyCharges\", \"TotalCharges\"]].corr(), annot=True, cmap=\"coolwarm\", fmt=\".2f\")\n",
    "plt.title(\"Correlation Heatmap\")\n",
    "plt.show()"
   ]
  },
  {
   "cell_type": "markdown",
   "metadata": {
    "id": "AWG9vYIJTw7c"
   },
   "source": [
    "Categorical features - Analysis"
   ]
  },
  {
   "cell_type": "code",
   "execution_count": null,
   "metadata": {
    "colab": {
     "base_uri": "https://localhost:8080/"
    },
    "id": "dZvQi2hhTNGZ",
    "outputId": "7210e632-f65f-44c6-90f3-97a7fa589086"
   },
   "outputs": [],
   "source": [
    "df.columns"
   ]
  },
  {
   "cell_type": "code",
   "execution_count": null,
   "metadata": {
    "colab": {
     "base_uri": "https://localhost:8080/"
    },
    "id": "x1371ShPXGYN",
    "outputId": "a5bff743-8ea2-4102-ae93-3f585e873ee9"
   },
   "outputs": [],
   "source": [
    "df.info()"
   ]
  },
  {
   "cell_type": "markdown",
   "metadata": {
    "id": "bn5hJMRWXkyv"
   },
   "source": [
    "Countplot for categorical columns"
   ]
  },
  {
   "cell_type": "code",
   "execution_count": null,
   "metadata": {
    "colab": {
     "base_uri": "https://localhost:8080/",
     "height": 1000
    },
    "id": "W_JwQNlVXJmR",
    "outputId": "f8007621-f810-43d5-b6de-f56149ba226c"
   },
   "outputs": [],
   "source": [
    "object_cols = df.select_dtypes(include=\"object\").columns.to_list()\n",
    "\n",
    "object_cols = [\"SeniorCitizen\"] + object_cols\n",
    "\n",
    "for col in object_cols:\n",
    "  plt.figure(figsize=(5, 3))\n",
    "  sns.countplot(x=df[col])\n",
    "  plt.title(f\"Count Plot of {col}\")\n",
    "  plt.show()"
   ]
  },
  {
   "cell_type": "markdown",
   "metadata": {
    "id": "GqXSxa0RYRqf"
   },
   "source": [
    "**4. Data Preprocessing**"
   ]
  },
  {
   "cell_type": "code",
   "execution_count": null,
   "metadata": {
    "colab": {
     "base_uri": "https://localhost:8080/",
     "height": 198
    },
    "id": "Zv4c14nAXYUf",
    "outputId": "3b13a2c3-520b-446d-b778-1b72f1704bae"
   },
   "outputs": [],
   "source": [
    "df.head(3)"
   ]
  },
  {
   "cell_type": "markdown",
   "metadata": {
    "id": "ccUVS6BxYi8n"
   },
   "source": [
    "Label encoding of target column"
   ]
  },
  {
   "cell_type": "code",
   "execution_count": null,
   "metadata": {
    "colab": {
     "base_uri": "https://localhost:8080/"
    },
    "id": "NhLXuP1LYZfR",
    "outputId": "1656b24a-e9b1-445e-fe06-210ad180cb43"
   },
   "outputs": [],
   "source": [
    "df[\"Churn\"] = df[\"Churn\"].replace({\"Yes\": 1, \"No\": 0})"
   ]
  },
  {
   "cell_type": "code",
   "execution_count": null,
   "metadata": {
    "colab": {
     "base_uri": "https://localhost:8080/",
     "height": 198
    },
    "id": "irKk7qPTYr3r",
    "outputId": "b9980fbc-0ac3-45d6-d51c-e2ff246129d3"
   },
   "outputs": [],
   "source": [
    "df.head(3)"
   ]
  },
  {
   "cell_type": "code",
   "execution_count": null,
   "metadata": {
    "colab": {
     "base_uri": "https://localhost:8080/"
    },
    "id": "mcgXdTCwYsnw",
    "outputId": "e4c5bf05-b86d-4d4f-ddb7-983d53943f78"
   },
   "outputs": [],
   "source": [
    "print(df[\"Churn\"].value_counts())"
   ]
  },
  {
   "cell_type": "markdown",
   "metadata": {
    "id": "Cs3j58UWY8zJ"
   },
   "source": [
    "Label encoding of categorical fetaures"
   ]
  },
  {
   "cell_type": "code",
   "execution_count": null,
   "metadata": {
    "id": "Q3-YraKcY4oC"
   },
   "outputs": [],
   "source": [
    "# identifying columns with object data type\n",
    "object_columns = df.select_dtypes(include=\"object\").columns"
   ]
  },
  {
   "cell_type": "code",
   "execution_count": null,
   "metadata": {
    "colab": {
     "base_uri": "https://localhost:8080/"
    },
    "id": "EiFRA573ZNEy",
    "outputId": "c23a12d6-2c54-42a5-a6d0-bd84cc613716"
   },
   "outputs": [],
   "source": [
    "print(object_columns)"
   ]
  },
  {
   "cell_type": "code",
   "execution_count": null,
   "metadata": {
    "id": "Sq6c2atrZOdu"
   },
   "outputs": [],
   "source": [
    "# initialize a dictionary to save the encoders\n",
    "encoders = {}\n",
    "\n",
    "# apply label encoding and store the encoders\n",
    "for column in object_columns:\n",
    "  label_encoder = LabelEncoder()\n",
    "  df[column] = label_encoder.fit_transform(df[column])\n",
    "  encoders[column] = label_encoder\n",
    "\n",
    "\n",
    "# save the encoders to a pickle file\n",
    "with open(\"encoders.pkl\", \"wb\") as f:\n",
    "  pickle.dump(encoders, f)\n"
   ]
  },
  {
   "cell_type": "code",
   "execution_count": null,
   "metadata": {
    "colab": {
     "base_uri": "https://localhost:8080/"
    },
    "id": "RV5ff4YVZpEQ",
    "outputId": "1615b953-f57c-4f40-fe61-407e009d1c32"
   },
   "outputs": [],
   "source": [
    "encoders"
   ]
  },
  {
   "cell_type": "code",
   "execution_count": null,
   "metadata": {
    "colab": {
     "base_uri": "https://localhost:8080/",
     "height": 226
    },
    "id": "km5wYiXAZsb0",
    "outputId": "9ee8bb31-fabe-42b5-a927-92b8f914c54d"
   },
   "outputs": [],
   "source": [
    "df.head()"
   ]
  },
  {
   "cell_type": "markdown",
   "metadata": {
    "id": "hEURc8NrbufR"
   },
   "source": [
    "**Traianing and test data split**"
   ]
  },
  {
   "cell_type": "code",
   "execution_count": null,
   "metadata": {
    "id": "wN0ylxzKaUyE"
   },
   "outputs": [],
   "source": [
    "# splitting the features and target\n",
    "X = df.drop(columns=[\"Churn\"])\n",
    "y = df[\"Churn\"]"
   ]
  },
  {
   "cell_type": "code",
   "execution_count": null,
   "metadata": {
    "id": "buwUAYVUb4aR"
   },
   "outputs": [],
   "source": [
    "# split training and test data\n",
    "X_train, X_test, y_train, y_test = train_test_split(X, y, test_size=0.2, random_state=42)"
   ]
  },
  {
   "cell_type": "code",
   "execution_count": null,
   "metadata": {
    "colab": {
     "base_uri": "https://localhost:8080/"
    },
    "id": "vp5UEF3PcObc",
    "outputId": "28bb4813-f6f8-4d38-e122-0bee4afd73f1"
   },
   "outputs": [],
   "source": [
    "print(y_train.shape)"
   ]
  },
  {
   "cell_type": "code",
   "execution_count": null,
   "metadata": {
    "colab": {
     "base_uri": "https://localhost:8080/"
    },
    "id": "GzXErq7jcbaJ",
    "outputId": "ab99c3f8-62eb-4f73-90c7-ff6fd26aec5c"
   },
   "outputs": [],
   "source": [
    "print(y_train.value_counts())"
   ]
  },
  {
   "cell_type": "markdown",
   "metadata": {
    "id": "SW6dcHZMckA6"
   },
   "source": [
    "Synthetic Minority Oversampling TEchnique (SMOTE)"
   ]
  },
  {
   "cell_type": "code",
   "execution_count": null,
   "metadata": {
    "id": "T7rj92Opcgh_"
   },
   "outputs": [],
   "source": [
    "smote = SMOTE(random_state=42)"
   ]
  },
  {
   "cell_type": "code",
   "execution_count": null,
   "metadata": {
    "id": "oZkUnYCEcxLL"
   },
   "outputs": [],
   "source": [
    "X_train_smote, y_train_smote = smote.fit_resample(X_train, y_train)"
   ]
  },
  {
   "cell_type": "code",
   "execution_count": null,
   "metadata": {
    "colab": {
     "base_uri": "https://localhost:8080/"
    },
    "id": "QHiRrR3Jc9Uv",
    "outputId": "43a76b42-f7e8-41fe-b94c-950ecc64de62"
   },
   "outputs": [],
   "source": [
    "print(y_train_smote.shape)"
   ]
  },
  {
   "cell_type": "code",
   "execution_count": null,
   "metadata": {
    "colab": {
     "base_uri": "https://localhost:8080/"
    },
    "id": "lMS-DWO0dA17",
    "outputId": "578b3563-742e-436f-9158-2c3217ed1840"
   },
   "outputs": [],
   "source": [
    "print(y_train_smote.value_counts())"
   ]
  },
  {
   "cell_type": "markdown",
   "metadata": {
    "id": "paChOpy7dNV9"
   },
   "source": [
    "**5. Model Training**"
   ]
  },
  {
   "cell_type": "markdown",
   "metadata": {
    "id": "9XoFtHYxdW3n"
   },
   "source": [
    "Training with default hyperparameters"
   ]
  },
  {
   "cell_type": "code",
   "execution_count": null,
   "metadata": {
    "id": "6zy42grTdEQI"
   },
   "outputs": [],
   "source": [
    "# dictionary of models\n",
    "models = {\n",
    "    \"Decision Tree\": DecisionTreeClassifier(random_state=42),\n",
    "    \"Random Forest\": RandomForestClassifier(random_state=42),\n",
    "    \"XGBoost\": XGBClassifier(random_state=42)\n",
    "}"
   ]
  },
  {
   "cell_type": "code",
   "execution_count": null,
   "metadata": {
    "colab": {
     "base_uri": "https://localhost:8080/"
    },
    "id": "B3KGjoiWdkUY",
    "outputId": "9bd95a2a-51bc-4c86-dee4-cd7f8597ccfb"
   },
   "outputs": [],
   "source": [
    "# dictionary to store the cross validation results\n",
    "cv_scores = {}\n",
    "\n",
    "# perform 5-fold cross validation for each model\n",
    "for model_name, model in models.items():\n",
    "  print(f\"Training {model_name} with default parameters\")\n",
    "  scores = cross_val_score(model, X_train_smote, y_train_smote, cv=5, scoring=\"accuracy\")\n",
    "  cv_scores[model_name] = scores\n",
    "  print(f\"{model_name} cross-validation accuracy: {np.mean(scores):.2f}\")\n",
    "  print(\"-\"*70)"
   ]
  },
  {
   "cell_type": "code",
   "execution_count": null,
   "metadata": {
    "colab": {
     "base_uri": "https://localhost:8080/"
    },
    "id": "azUmCrtsd7X9",
    "outputId": "d74e6478-85a5-457b-a303-65d8c3ec1de7"
   },
   "outputs": [],
   "source": [
    "cv_scores"
   ]
  },
  {
   "cell_type": "markdown",
   "metadata": {
    "id": "GZHMA7qDfdhy"
   },
   "source": [
    "Random Forest gives the highest accuracy compared to other models with default parameters"
   ]
  },
  {
   "cell_type": "code",
   "execution_count": null,
   "metadata": {
    "id": "7Ryv2eVge7jo"
   },
   "outputs": [],
   "source": [
    "rfc = RandomForestClassifier(random_state=42)"
   ]
  },
  {
   "cell_type": "code",
   "execution_count": null,
   "metadata": {
    "colab": {
     "base_uri": "https://localhost:8080/",
     "height": 80
    },
    "id": "LtSf0RDCfoGj",
    "outputId": "315c8fa4-9e37-47f7-ce47-4c93d6c52c2a"
   },
   "outputs": [],
   "source": [
    "rfc.fit(X_train_smote, y_train_smote)"
   ]
  },
  {
   "cell_type": "code",
   "execution_count": null,
   "metadata": {
    "colab": {
     "base_uri": "https://localhost:8080/"
    },
    "id": "Ps-zI6NFgEJg",
    "outputId": "9ece5fd7-2825-45de-ff6b-9fc6b4ec5c35"
   },
   "outputs": [],
   "source": [
    "print(y_test.value_counts())"
   ]
  },
  {
   "cell_type": "markdown",
   "metadata": {
    "id": "GjsS6hgkfru0"
   },
   "source": [
    "**6. Model Evaluation**"
   ]
  },
  {
   "cell_type": "code",
   "execution_count": null,
   "metadata": {
    "colab": {
     "base_uri": "https://localhost:8080/"
    },
    "id": "yQtGX6PngNJm",
    "outputId": "ad8ffbe2-514c-48b5-e6dd-ea9b9288a065"
   },
   "outputs": [],
   "source": [
    "# evaluate on test data\n",
    "y_test_pred = rfc.predict(X_test)\n",
    "\n",
    "print(\"Accuracy Score:\\n\", accuracy_score(y_test, y_test_pred))\n",
    "print(\"Confsuion Matrix:\\n\", confusion_matrix(y_test, y_test_pred))\n",
    "print(\"Classification Report:\\n\", classification_report(y_test, y_test_pred))"
   ]
  },
  {
   "cell_type": "code",
   "execution_count": null,
   "metadata": {
    "id": "zssUNtcsgMLh"
   },
   "outputs": [],
   "source": [
    "# save the trained model as a pickle file\n",
    "model_data = {\"model\": rfc, \"features_names\": X.columns.tolist()}\n",
    "\n",
    "\n",
    "with open(\"customer_churn_model.pkl\", \"wb\") as f:\n",
    "  pickle.dump(model_data, f)"
   ]
  },
  {
   "cell_type": "markdown",
   "metadata": {
    "id": "vWVcq79lhHH4"
   },
   "source": [
    "**7. Load the saved  model and  build a Predictive System**"
   ]
  },
  {
   "cell_type": "code",
   "execution_count": null,
   "metadata": {
    "id": "EHJUOCxAg_-W"
   },
   "outputs": [],
   "source": [
    "# load teh saved model and the feature names\n",
    "\n",
    "with open(\"customer_churn_model.pkl\", \"rb\") as f:\n",
    "  model_data = pickle.load(f)\n",
    "\n",
    "loaded_model = model_data[\"model\"]\n",
    "feature_names = model_data[\"features_names\"]"
   ]
  },
  {
   "cell_type": "code",
   "execution_count": null,
   "metadata": {
    "colab": {
     "base_uri": "https://localhost:8080/"
    },
    "id": "UkaI2oE3huq5",
    "outputId": "343386c6-aad8-4eac-a40d-9a38ef54023d"
   },
   "outputs": [],
   "source": [
    "print(loaded_model)"
   ]
  },
  {
   "cell_type": "code",
   "execution_count": null,
   "metadata": {
    "colab": {
     "base_uri": "https://localhost:8080/"
    },
    "id": "a758RlNVh7Xe",
    "outputId": "1456a90a-2599-49ec-e894-7627d3f0f919"
   },
   "outputs": [],
   "source": [
    "print(feature_names)"
   ]
  },
  {
   "cell_type": "code",
   "execution_count": null,
   "metadata": {
    "colab": {
     "base_uri": "https://localhost:8080/"
    },
    "id": "-zyAmZeyioWS",
    "outputId": "39751cc2-d16d-466c-af3a-c0b41a3219f0"
   },
   "outputs": [],
   "source": []
  },
  {
   "cell_type": "code",
   "execution_count": null,
   "metadata": {
    "colab": {
     "base_uri": "https://localhost:8080/"
    },
    "id": "pVYWRbYwjS3y",
    "outputId": "e4c606d9-4b6e-4dc9-e467-2e61314ef874"
   },
   "outputs": [],
   "source": [
    "encoders"
   ]
  },
  {
   "cell_type": "markdown",
   "metadata": {
    "id": "wvQG7N02lKFV"
   },
   "source": [
    "**To do:**\n",
    "1. Implement Hyperparameter Tuining\n",
    "2. Try Model Selection\n",
    "3. Try downsampling\n",
    "4. Try to address teh overfitting\n",
    "5. Try Startified k fold CV"
   ]
  },
  {
   "cell_type": "code",
   "execution_count": null,
   "metadata": {},
   "outputs": [],
   "source": []
  },
  {
   "cell_type": "code",
   "execution_count": 37,
   "metadata": {
    "scrolled": true
   },
   "outputs": [
    {
     "name": "stdout",
     "output_type": "stream",
     "text": [
      "      customerID  gender  SeniorCitizen Partner Dependents  tenure  \\\n",
      "2     3668-QPYBK    Male              0      No         No       2   \n",
      "4     9237-HQITU  Female              0      No         No       2   \n",
      "5     9305-CDSKC  Female              0      No         No       8   \n",
      "8     7892-POOKP  Female              0     Yes         No      28   \n",
      "13    0280-XJGEX    Male              0      No         No      49   \n",
      "...          ...     ...            ...     ...        ...     ...   \n",
      "7021  1699-HPSBG    Male              0      No         No      12   \n",
      "7026  8775-CEBBJ  Female              0      No         No       9   \n",
      "7032  6894-LFHLY    Male              1      No         No       1   \n",
      "7034  0639-TSIQW  Female              0      No         No      67   \n",
      "7041  8361-LTMKD    Male              1     Yes         No       4   \n",
      "\n",
      "     PhoneService MultipleLines InternetService OnlineSecurity  ...  \\\n",
      "2             Yes            No             DSL            Yes  ...   \n",
      "4             Yes            No     Fiber optic             No  ...   \n",
      "5             Yes           Yes     Fiber optic             No  ...   \n",
      "8             Yes           Yes     Fiber optic             No  ...   \n",
      "13            Yes           Yes     Fiber optic             No  ...   \n",
      "...           ...           ...             ...            ...  ...   \n",
      "7021          Yes            No             DSL             No  ...   \n",
      "7026          Yes            No             DSL             No  ...   \n",
      "7032          Yes           Yes     Fiber optic             No  ...   \n",
      "7034          Yes           Yes     Fiber optic            Yes  ...   \n",
      "7041          Yes           Yes     Fiber optic             No  ...   \n",
      "\n",
      "     DeviceProtection TechSupport StreamingTV StreamingMovies        Contract  \\\n",
      "2                  No          No          No              No  Month-to-month   \n",
      "4                  No          No          No              No  Month-to-month   \n",
      "5                 Yes          No         Yes             Yes  Month-to-month   \n",
      "8                 Yes         Yes         Yes             Yes  Month-to-month   \n",
      "13                Yes          No         Yes             Yes  Month-to-month   \n",
      "...               ...         ...         ...             ...             ...   \n",
      "7021               No         Yes         Yes              No        One year   \n",
      "7026               No          No          No              No  Month-to-month   \n",
      "7032               No          No          No              No  Month-to-month   \n",
      "7034              Yes          No         Yes              No  Month-to-month   \n",
      "7041               No          No          No              No  Month-to-month   \n",
      "\n",
      "     PaperlessBilling              PaymentMethod MonthlyCharges  TotalCharges  \\\n",
      "2                 Yes               Mailed check          53.85        108.15   \n",
      "4                 Yes           Electronic check          70.70        151.65   \n",
      "5                 Yes           Electronic check          99.65         820.5   \n",
      "8                 Yes           Electronic check         104.80       3046.05   \n",
      "13                Yes  Bank transfer (automatic)         103.70        5036.3   \n",
      "...               ...                        ...            ...           ...   \n",
      "7021              Yes           Electronic check          59.80         727.8   \n",
      "7026              Yes  Bank transfer (automatic)          44.20        403.35   \n",
      "7032              Yes           Electronic check          75.75         75.75   \n",
      "7034              Yes    Credit card (automatic)         102.95       6886.25   \n",
      "7041              Yes               Mailed check          74.40         306.6   \n",
      "\n",
      "     Churn  \n",
      "2      Yes  \n",
      "4      Yes  \n",
      "5      Yes  \n",
      "8      Yes  \n",
      "13     Yes  \n",
      "...    ...  \n",
      "7021   Yes  \n",
      "7026   Yes  \n",
      "7032   Yes  \n",
      "7034   Yes  \n",
      "7041   Yes  \n",
      "\n",
      "[1869 rows x 21 columns]\n"
     ]
    }
   ],
   "source": [
    "\n",
    "# import pandas as pd\n",
    "\n",
    "# try:\n",
    "#     # Load the dataset\n",
    "#     df = pd.read_csv('WA_Fn-UseC_-Telco-Customer-Churn.csv')\n",
    "#     print(\"Dataset loaded successfully!\")\n",
    "# except FileNotFoundError:\n",
    "#     print(\"Dataset not found. Please check the file path.\")\n",
    "#     raise\n",
    "\n",
    "# # Check the unique values in the 'Churn' column to ensure they are 'Yes' or 'No'\n",
    "# print(\"Unique values in the 'Churn' column:\", df['Churn'].unique())\n",
    "\n",
    "# # Clean the 'Churn' column\n",
    "# df['Churn'] = df['Churn'].str.strip()\n",
    "\n",
    "# # Convert 'TotalCharges' to numeric\n",
    "# df['TotalCharges'] = pd.to_numeric(df['TotalCharges'], errors='coerce')\n",
    "\n",
    "# # Fill missing values in 'TotalCharges'\n",
    "# df['TotalCharges'] = df['TotalCharges'].fillna(0)\n",
    "\n",
    "# # Filter for churned customers\n",
    "# churned_customers = df[df['Churn'] == 'Yes']\n",
    "# print(\"\\nFirst 10 rows of churned customers:\")\n",
    "# print(churned_customers.head(10))\n",
    "\n",
    "# # Splitting the data\n",
    "# from sklearn.model_selection import train_test_split\n",
    "\n",
    "# # Select features and target\n",
    "# X = df.drop(columns=['customerID', 'Churn'])  # Drop irrelevant and target columns\n",
    "# y = df['Churn'].map({'No': 0, 'Yes': 1})      # Encode 'Churn' as binary values\n",
    "\n",
    "# # One-hot encode categorical variables\n",
    "# X = pd.get_dummies(X, drop_first=True)\n",
    "# print(\"\\nFeatures after one-hot encoding:\")\n",
    "# print(X.head())\n",
    "\n",
    "# # Split data into training and testing sets\n",
    "# X_train, X_test, y_train, y_test = train_test_split(X, y, test_size=0.2, random_state=42)\n",
    "# print(\"\\nData split into training and testing sets.\")\n",
    "\n",
    "# # Model Selection and Hyperparameter Tuning\n",
    "# from sklearn.ensemble import RandomForestClassifier\n",
    "# from sklearn.model_selection import GridSearchCV\n",
    "\n",
    "# # Define parameter grid\n",
    "# param_grid = {\n",
    "#     'n_estimators': [100, 200, 300],\n",
    "#     'max_depth': [10, 20, 30],\n",
    "#     'min_samples_split': [2, 5, 10]\n",
    "# }\n",
    "\n",
    "# # Grid search\n",
    "# grid_search = GridSearchCV(estimator=RandomForestClassifier(), param_grid=param_grid, cv=5)\n",
    "# print(\"\\nStarting Grid Search...\")\n",
    "# grid_search.fit(X_train, y_train)\n",
    "# print(\"Grid Search Completed!\")\n",
    "\n",
    "# # Best parameters\n",
    "# print(\"Best hyperparameters:\", grid_search.best_params_)\n",
    "\n",
    "# # Evaluate the model\n",
    "# from sklearn.metrics import classification_report\n",
    "\n",
    "# best_model = grid_search.best_estimator_\n",
    "# y_pred = best_model.predict(X_test)\n",
    "\n",
    "# print(\"\\nClassification Report:\")\n",
    "# print(classification_report(y_test, y_pred))\n",
    "\n",
    "\n",
    "\n",
    "\n",
    "\n",
    "\n",
    "\n",
    "\n",
    "\n",
    "\n",
    "\n",
    "\n",
    "\n",
    "\n",
    "\n",
    "\n",
    "\n",
    "\n",
    "# data for all customer\n",
    "\n",
    "# import pandas as pd\n",
    "# import numpy as np\n",
    "# from sklearn.model_selection import train_test_split, RandomizedSearchCV, StratifiedKFold, cross_val_score\n",
    "# from sklearn.ensemble import RandomForestClassifier, GradientBoostingClassifier\n",
    "# from sklearn.preprocessing import StandardScaler\n",
    "# from sklearn.metrics import classification_report, confusion_matrix\n",
    "# from imblearn.over_sampling import RandomOverSampler\n",
    "# import matplotlib.pyplot as plt\n",
    "\n",
    "# # Load dataset\n",
    "# print(\"Loading dataset...\")\n",
    "# df = pd.read_csv('WA_Fn-UseC_-Telco-Customer-Churn.csv')  # Replace with your dataset path\n",
    "# print(\"Dataset loaded successfully!\")\n",
    "\n",
    "# # Check the first few rows of the dataset\n",
    "# print(\"\\nFirst few rows of the dataset:\")\n",
    "# print(df.head())\n",
    "\n",
    "# # Check for missing values\n",
    "# print(\"\\nMissing values in each column:\")\n",
    "# print(df.isnull().sum())\n",
    "\n",
    "# # Preprocess 'TotalCharges' and handle missing values\n",
    "# df['TotalCharges'] = pd.to_numeric(df['TotalCharges'], errors='coerce')\n",
    "# df['TotalCharges'] = df['TotalCharges'].fillna(0)  # Fill missing values with 0\n",
    "\n",
    "# # Check if there are any missing values now\n",
    "# print(\"\\nMissing values after preprocessing 'TotalCharges':\")\n",
    "# print(df.isnull().sum())\n",
    "\n",
    "# # Encode categorical features using one-hot encoding\n",
    "# df_encoded = pd.get_dummies(df, drop_first=True)\n",
    "# print(\"\\nFeatures after one-hot encoding:\")\n",
    "# print(df_encoded.head())\n",
    "\n",
    "# # Create new feature: average monthly spend\n",
    "# df_encoded['avg_monthly_spend'] = df_encoded['TotalCharges'] / df_encoded['tenure']\n",
    "# print(\"\\nAdded 'avg_monthly_spend' feature:\")\n",
    "# print(df_encoded[['TotalCharges', 'tenure', 'avg_monthly_spend']].head())\n",
    "\n",
    "# # Split data into features and target\n",
    "# print(\"Splitting data into features and target...\")\n",
    "# X = df_encoded.drop(columns=['Churn_Yes'])\n",
    "# y = df_encoded['Churn_Yes']\n",
    "\n",
    "# # Feature scaling for numeric columns\n",
    "# scaler = StandardScaler()\n",
    "# X[['tenure', 'MonthlyCharges', 'TotalCharges', 'avg_monthly_spend']] = scaler.fit_transform(X[['tenure', 'MonthlyCharges', 'TotalCharges', 'avg_monthly_spend']])\n",
    "\n",
    "# # Split data into training and testing sets\n",
    "# X_train, X_test, y_train, y_test = train_test_split(X, y, test_size=0.2, random_state=42, stratify=y)\n",
    "# print(\"\\nData split into training and testing sets.\")\n",
    "\n",
    "# # Downsampling majority class to balance the dataset\n",
    "# print(\"\\nDownsampling majority class...\")\n",
    "# ros = RandomOverSampler(sampling_strategy=0.5, random_state=42)\n",
    "# X_resampled, y_resampled = ros.fit_resample(X_train, y_train)\n",
    "\n",
    "# # Initialize classifiers for model selection\n",
    "# models = {\n",
    "#     'RandomForest': RandomForestClassifier(class_weight='balanced', random_state=42),\n",
    "#     'GradientBoosting': GradientBoostingClassifier(random_state=42)\n",
    "# }\n",
    "\n",
    "# # Define hyperparameters grid for RandomizedSearchCV\n",
    "# param_grid_rf = {\n",
    "#     'n_estimators': [100, 200, 300],\n",
    "#     'max_depth': [10, 20, None],\n",
    "#     'min_samples_split': [2, 5, 10],\n",
    "#     'min_samples_leaf': [1, 2, 4],\n",
    "#     'bootstrap': [True, False]\n",
    "# }\n",
    "\n",
    "# param_grid_gb = {\n",
    "#     'n_estimators': [100, 200, 300],\n",
    "#     'learning_rate': [0.01, 0.05, 0.1],\n",
    "#     'max_depth': [3, 5, 7],\n",
    "# }\n",
    "\n",
    "# # Start Hyperparameter Tuning with Stratified K-Fold Cross Validation and RandomizedSearchCV\n",
    "# best_models = {}\n",
    "# for model_name, model in models.items():\n",
    "#     print(f\"\\nStarting {model_name} model hyperparameter tuning...\")\n",
    "\n",
    "#     # Setup RandomizedSearchCV for each model\n",
    "#     if model_name == 'RandomForest':\n",
    "#         random_search = RandomizedSearchCV(\n",
    "#             estimator=model,\n",
    "#             param_distributions=param_grid_rf,\n",
    "#             n_iter=5,\n",
    "#             cv=3,\n",
    "#             verbose=1,\n",
    "#             random_state=42,\n",
    "#             n_jobs=-1\n",
    "#         )\n",
    "#     else:\n",
    "#         random_search = RandomizedSearchCV(\n",
    "#             estimator=model,\n",
    "#             param_distributions=param_grid_gb,\n",
    "#             n_iter=5,\n",
    "#             cv=3,\n",
    "#             verbose=1,\n",
    "#             random_state=42,\n",
    "#             n_jobs=-1\n",
    "#         )\n",
    "\n",
    "#     # Fit the RandomizedSearchCV model\n",
    "#     random_search.fit(X_resampled, y_resampled)\n",
    "\n",
    "#     # Store the best model from RandomizedSearchCV\n",
    "#     best_models[model_name] = random_search.best_estimator_\n",
    "#     print(f\"Best hyperparameters for {model_name}: {random_search.best_params_}\")\n",
    "\n",
    "# # Evaluate the best model from each type\n",
    "# for model_name, model in best_models.items():\n",
    "#     print(f\"\\nEvaluating {model_name} on the test set...\")\n",
    "\n",
    "#     # Predict on the test set\n",
    "#     y_pred = model.predict(X_test)\n",
    "\n",
    "#     # Evaluate the model with a classification report\n",
    "#     print(f\"\\n{model_name} Classification Report:\")\n",
    "#     print(classification_report(y_test, y_pred))\n",
    "\n",
    "#     # Confusion matrix\n",
    "#     cm = confusion_matrix(y_test, y_pred)\n",
    "#     print(f\"\\nConfusion Matrix for {model_name}:\")\n",
    "#     print(cm)\n",
    "\n",
    "#     # Plotting the confusion matrix\n",
    "#     plt.figure(figsize=(5, 5))\n",
    "#     plt.imshow(cm, interpolation='nearest', cmap=plt.cm.Blues)\n",
    "#     plt.title(f'Confusion Matrix - {model_name}')\n",
    "#     plt.colorbar()\n",
    "#     tick_marks = np.arange(2)\n",
    "#     plt.xticks(tick_marks, ['Not Churn', 'Churn'], rotation=45)\n",
    "#     plt.yticks(tick_marks, ['Not Churn', 'Churn'])\n",
    "#     plt.ylabel('True label')\n",
    "#     plt.xlabel('Predicted label')\n",
    "#     plt.tight_layout()\n",
    "#     plt.show()\n",
    "\n",
    "# # Implementing Stratified K-Fold Cross Validation (for final model evaluation)\n",
    "# print(\"\\nStarting Stratified K-Fold Cross Validation...\")\n",
    "# cv = StratifiedKFold(n_splits=5, shuffle=True, random_state=42)\n",
    "\n",
    "# for model_name, model in best_models.items():\n",
    "#     print(f\"\\nEvaluating {model_name} using Stratified K-Fold Cross Validation...\")\n",
    "    \n",
    "#     # Cross-validation\n",
    "#     cv_scores = cross_val_score(model, X_resampled, y_resampled, cv=cv, scoring='accuracy')\n",
    "#     print(f\"\\nCross-validated scores for {model_name}: {cv_scores}\")\n",
    "#     print(f\"Mean accuracy: {cv_scores.mean()}\")\n",
    "\n",
    "\n",
    "\n",
    "\n",
    "\n",
    "# for churn=yes customer only\n",
    "import pandas as pd\n",
    "\n",
    "# Load dataset (assuming your dataset path is 'WA_Fn-UseC_-Telco-Customer-Churn.csv')\n",
    "df = pd.read_csv('WA_Fn-UseC_-Telco-Customer-Churn.csv')\n",
    "\n",
    "# Select rows where churn='Yes'\n",
    "churned_customers = df[df['Churn'] == 'Yes']\n",
    "\n",
    "# Display the selected rows\n",
    "print(churned_customers)"
   ]
  },
  {
   "cell_type": "code",
   "execution_count": null,
   "metadata": {},
   "outputs": [],
   "source": []
  },
  {
   "cell_type": "code",
   "execution_count": null,
   "metadata": {},
   "outputs": [],
   "source": []
  },
  {
   "cell_type": "code",
   "execution_count": null,
   "metadata": {},
   "outputs": [],
   "source": []
  }
 ],
 "metadata": {
  "colab": {
   "provenance": []
  },
  "kernelspec": {
   "display_name": "venv",
   "language": "python",
   "name": "python3"
  },
  "language_info": {
   "codemirror_mode": {
    "name": "ipython",
    "version": 3
   },
   "file_extension": ".py",
   "mimetype": "text/x-python",
   "name": "python",
   "nbconvert_exporter": "python",
   "pygments_lexer": "ipython3",
   "version": "3.13.1"
  }
 },
 "nbformat": 4,
 "nbformat_minor": 4
}
